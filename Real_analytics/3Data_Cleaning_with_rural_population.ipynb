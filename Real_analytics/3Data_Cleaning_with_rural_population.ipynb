{
 "cells": [
  {
   "cell_type": "code",
   "execution_count": 1,
   "id": "ed84633f-3136-49fb-a5b1-a641e0ca093b",
   "metadata": {},
   "outputs": [],
   "source": [
    "import pandas as pd\n",
    "import numpy as np\n",
    "import matplotlib.pyplot as plt"
   ]
  },
  {
   "cell_type": "markdown",
   "id": "ffe18f2c-4c55-4056-8592-10d90cba1785",
   "metadata": {},
   "source": [
    "# Data Cleaning for Population table"
   ]
  },
  {
   "cell_type": "markdown",
   "id": "2dc3cec9-2b04-4442-8e12-93599f0d09f0",
   "metadata": {},
   "source": [
    "##### *  We cannot load the data directly because it is not encoded so we encoded it \n",
    "##### *  The first 4 columns where just simple information so we skiped that row and consider it from the column header"
   ]
  },
  {
   "cell_type": "code",
   "execution_count": 25,
   "id": "f352aba8-e2da-4e31-a148-c213140dc4fa",
   "metadata": {},
   "outputs": [],
   "source": [
    "rpopulation_df = pd.read_csv(\n",
    "    r'C:\\Users\\heman\\OneDrive\\Desktop\\Analytics_arena\\rural_population_percent.csv',\n",
    "    encoding='ISO-8859-1',\n",
    "    skiprows=4\n",
    ")"
   ]
  },
  {
   "cell_type": "code",
   "execution_count": 26,
   "id": "2fa7c5aa-cb82-43a1-b2be-02c7719b9dcc",
   "metadata": {
    "scrolled": true
   },
   "outputs": [
    {
     "data": {
      "text/html": [
       "<div>\n",
       "<style scoped>\n",
       "    .dataframe tbody tr th:only-of-type {\n",
       "        vertical-align: middle;\n",
       "    }\n",
       "\n",
       "    .dataframe tbody tr th {\n",
       "        vertical-align: top;\n",
       "    }\n",
       "\n",
       "    .dataframe thead th {\n",
       "        text-align: right;\n",
       "    }\n",
       "</style>\n",
       "<table border=\"1\" class=\"dataframe\">\n",
       "  <thead>\n",
       "    <tr style=\"text-align: right;\">\n",
       "      <th></th>\n",
       "      <th>Country Name</th>\n",
       "      <th>Country Code</th>\n",
       "      <th>Indicator Name</th>\n",
       "      <th>Indicator Code</th>\n",
       "      <th>1960</th>\n",
       "      <th>1961</th>\n",
       "      <th>1962</th>\n",
       "      <th>1963</th>\n",
       "      <th>1964</th>\n",
       "      <th>1965</th>\n",
       "      <th>...</th>\n",
       "      <th>2009</th>\n",
       "      <th>2010</th>\n",
       "      <th>2011</th>\n",
       "      <th>2012</th>\n",
       "      <th>2013</th>\n",
       "      <th>2014</th>\n",
       "      <th>2015</th>\n",
       "      <th>2016</th>\n",
       "      <th>2017</th>\n",
       "      <th>Unnamed: 62</th>\n",
       "    </tr>\n",
       "  </thead>\n",
       "  <tbody>\n",
       "    <tr>\n",
       "      <th>0</th>\n",
       "      <td>Aruba</td>\n",
       "      <td>ABW</td>\n",
       "      <td>Rural population (% of total population)</td>\n",
       "      <td>SP.RUR.TOTL.ZS</td>\n",
       "      <td>49.224</td>\n",
       "      <td>49.239</td>\n",
       "      <td>49.254</td>\n",
       "      <td>49.270</td>\n",
       "      <td>49.285</td>\n",
       "      <td>49.300</td>\n",
       "      <td>...</td>\n",
       "      <td>56.579</td>\n",
       "      <td>56.941</td>\n",
       "      <td>57.302</td>\n",
       "      <td>57.636</td>\n",
       "      <td>57.942</td>\n",
       "      <td>58.221</td>\n",
       "      <td>58.472</td>\n",
       "      <td>58.696</td>\n",
       "      <td>58.893</td>\n",
       "      <td>NaN</td>\n",
       "    </tr>\n",
       "    <tr>\n",
       "      <th>1</th>\n",
       "      <td>Afghanistan</td>\n",
       "      <td>AFG</td>\n",
       "      <td>Rural population (% of total population)</td>\n",
       "      <td>SP.RUR.TOTL.ZS</td>\n",
       "      <td>91.779</td>\n",
       "      <td>91.492</td>\n",
       "      <td>91.195</td>\n",
       "      <td>90.890</td>\n",
       "      <td>90.574</td>\n",
       "      <td>90.250</td>\n",
       "      <td>...</td>\n",
       "      <td>75.687</td>\n",
       "      <td>75.311</td>\n",
       "      <td>74.926</td>\n",
       "      <td>74.532</td>\n",
       "      <td>74.129</td>\n",
       "      <td>73.718</td>\n",
       "      <td>73.297</td>\n",
       "      <td>72.868</td>\n",
       "      <td>72.430</td>\n",
       "      <td>NaN</td>\n",
       "    </tr>\n",
       "    <tr>\n",
       "      <th>2</th>\n",
       "      <td>Angola</td>\n",
       "      <td>AGO</td>\n",
       "      <td>Rural population (% of total population)</td>\n",
       "      <td>SP.RUR.TOTL.ZS</td>\n",
       "      <td>89.565</td>\n",
       "      <td>89.202</td>\n",
       "      <td>88.796</td>\n",
       "      <td>88.376</td>\n",
       "      <td>87.942</td>\n",
       "      <td>87.496</td>\n",
       "      <td>...</td>\n",
       "      <td>60.701</td>\n",
       "      <td>59.903</td>\n",
       "      <td>59.100</td>\n",
       "      <td>58.301</td>\n",
       "      <td>57.510</td>\n",
       "      <td>56.726</td>\n",
       "      <td>55.950</td>\n",
       "      <td>55.181</td>\n",
       "      <td>54.422</td>\n",
       "      <td>NaN</td>\n",
       "    </tr>\n",
       "    <tr>\n",
       "      <th>3</th>\n",
       "      <td>Albania</td>\n",
       "      <td>ALB</td>\n",
       "      <td>Rural population (% of total population)</td>\n",
       "      <td>SP.RUR.TOTL.ZS</td>\n",
       "      <td>69.295</td>\n",
       "      <td>69.057</td>\n",
       "      <td>68.985</td>\n",
       "      <td>68.914</td>\n",
       "      <td>68.842</td>\n",
       "      <td>68.770</td>\n",
       "      <td>...</td>\n",
       "      <td>48.924</td>\n",
       "      <td>47.837</td>\n",
       "      <td>46.753</td>\n",
       "      <td>45.670</td>\n",
       "      <td>44.617</td>\n",
       "      <td>43.591</td>\n",
       "      <td>42.593</td>\n",
       "      <td>41.624</td>\n",
       "      <td>40.684</td>\n",
       "      <td>NaN</td>\n",
       "    </tr>\n",
       "    <tr>\n",
       "      <th>4</th>\n",
       "      <td>Andorra</td>\n",
       "      <td>AND</td>\n",
       "      <td>Rural population (% of total population)</td>\n",
       "      <td>SP.RUR.TOTL.ZS</td>\n",
       "      <td>41.550</td>\n",
       "      <td>39.017</td>\n",
       "      <td>36.538</td>\n",
       "      <td>34.128</td>\n",
       "      <td>31.795</td>\n",
       "      <td>29.555</td>\n",
       "      <td>...</td>\n",
       "      <td>11.648</td>\n",
       "      <td>12.183</td>\n",
       "      <td>12.740</td>\n",
       "      <td>13.292</td>\n",
       "      <td>13.835</td>\n",
       "      <td>14.367</td>\n",
       "      <td>14.885</td>\n",
       "      <td>15.388</td>\n",
       "      <td>15.873</td>\n",
       "      <td>NaN</td>\n",
       "    </tr>\n",
       "  </tbody>\n",
       "</table>\n",
       "<p>5 rows × 63 columns</p>\n",
       "</div>"
      ],
      "text/plain": [
       "  Country Name Country Code                            Indicator Name  \\\n",
       "0        Aruba          ABW  Rural population (% of total population)   \n",
       "1  Afghanistan          AFG  Rural population (% of total population)   \n",
       "2       Angola          AGO  Rural population (% of total population)   \n",
       "3      Albania          ALB  Rural population (% of total population)   \n",
       "4      Andorra          AND  Rural population (% of total population)   \n",
       "\n",
       "   Indicator Code    1960    1961    1962    1963    1964    1965  ...  \\\n",
       "0  SP.RUR.TOTL.ZS  49.224  49.239  49.254  49.270  49.285  49.300  ...   \n",
       "1  SP.RUR.TOTL.ZS  91.779  91.492  91.195  90.890  90.574  90.250  ...   \n",
       "2  SP.RUR.TOTL.ZS  89.565  89.202  88.796  88.376  87.942  87.496  ...   \n",
       "3  SP.RUR.TOTL.ZS  69.295  69.057  68.985  68.914  68.842  68.770  ...   \n",
       "4  SP.RUR.TOTL.ZS  41.550  39.017  36.538  34.128  31.795  29.555  ...   \n",
       "\n",
       "     2009    2010    2011    2012    2013    2014    2015    2016    2017  \\\n",
       "0  56.579  56.941  57.302  57.636  57.942  58.221  58.472  58.696  58.893   \n",
       "1  75.687  75.311  74.926  74.532  74.129  73.718  73.297  72.868  72.430   \n",
       "2  60.701  59.903  59.100  58.301  57.510  56.726  55.950  55.181  54.422   \n",
       "3  48.924  47.837  46.753  45.670  44.617  43.591  42.593  41.624  40.684   \n",
       "4  11.648  12.183  12.740  13.292  13.835  14.367  14.885  15.388  15.873   \n",
       "\n",
       "   Unnamed: 62  \n",
       "0          NaN  \n",
       "1          NaN  \n",
       "2          NaN  \n",
       "3          NaN  \n",
       "4          NaN  \n",
       "\n",
       "[5 rows x 63 columns]"
      ]
     },
     "execution_count": 26,
     "metadata": {},
     "output_type": "execute_result"
    }
   ],
   "source": [
    "rpopulation_df.head(5)"
   ]
  },
  {
   "cell_type": "markdown",
   "id": "f1df17c6-b297-4402-9884-876e7676af5d",
   "metadata": {},
   "source": [
    "##### There are some column that we actually not needed so it is better to remove it."
   ]
  },
  {
   "cell_type": "code",
   "execution_count": 27,
   "id": "c60259ff-cf35-4256-b735-d3366498e67e",
   "metadata": {},
   "outputs": [],
   "source": [
    "rpopulation_df.drop(['Unnamed: 62', 'Indicator Name', 'Indicator Code'], axis=1, inplace=True)"
   ]
  },
  {
   "cell_type": "code",
   "execution_count": 28,
   "id": "cf6ede2d-068f-4fb2-86ba-383782cba173",
   "metadata": {},
   "outputs": [
    {
     "data": {
      "text/plain": [
       "(264, 60)"
      ]
     },
     "execution_count": 28,
     "metadata": {},
     "output_type": "execute_result"
    }
   ],
   "source": [
    "rpopulation_df.shape"
   ]
  },
  {
   "cell_type": "code",
   "execution_count": 29,
   "id": "a93660fe-b99d-4d69-950e-2faf11e6f7f3",
   "metadata": {},
   "outputs": [
    {
     "data": {
      "text/plain": [
       "Country Name    0\n",
       "Country Code    0\n",
       "1960            5\n",
       "1961            5\n",
       "1962            5\n",
       "1963            5\n",
       "1964            5\n",
       "1965            5\n",
       "1966            5\n",
       "1967            5\n",
       "1968            5\n",
       "1969            5\n",
       "1970            5\n",
       "1971            5\n",
       "1972            5\n",
       "1973            5\n",
       "1974            5\n",
       "1975            5\n",
       "1976            5\n",
       "1977            5\n",
       "1978            5\n",
       "1979            5\n",
       "1980            5\n",
       "1981            5\n",
       "1982            5\n",
       "1983            5\n",
       "1984            5\n",
       "1985            5\n",
       "1986            5\n",
       "1987            5\n",
       "1988            5\n",
       "1989            5\n",
       "1990            3\n",
       "1991            3\n",
       "1992            3\n",
       "1993            3\n",
       "1994            3\n",
       "1995            3\n",
       "1996            3\n",
       "1997            3\n",
       "1998            3\n",
       "1999            3\n",
       "2000            3\n",
       "2001            3\n",
       "2002            3\n",
       "2003            3\n",
       "2004            3\n",
       "2005            3\n",
       "2006            3\n",
       "2007            3\n",
       "2008            3\n",
       "2009            3\n",
       "2010            3\n",
       "2011            3\n",
       "2012            4\n",
       "2013            4\n",
       "2014            4\n",
       "2015            4\n",
       "2016            4\n",
       "2017            4\n",
       "dtype: int64"
      ]
     },
     "execution_count": 29,
     "metadata": {},
     "output_type": "execute_result"
    }
   ],
   "source": [
    "rpopulation_df.isnull().sum()"
   ]
  },
  {
   "cell_type": "markdown",
   "id": "5eb94469-4411-4794-9674-d1e156cdea1f",
   "metadata": {},
   "source": [
    "##### if you look there are less number of nullvalues it is better to remove that row rather than making it complicated"
   ]
  },
  {
   "cell_type": "code",
   "execution_count": 19,
   "id": "59131ca9-4f8e-4384-ac20-d297fec3a32d",
   "metadata": {},
   "outputs": [],
   "source": [
    "rpopulation_df = rpopulation_df.dropna()"
   ]
  },
  {
   "cell_type": "markdown",
   "id": "0c0327ef-cc21-4a6c-abc0-0961072763e0",
   "metadata": {},
   "source": [
    "##### Now for better visualization it is better to make the year as that in single column"
   ]
  },
  {
   "cell_type": "code",
   "execution_count": 31,
   "id": "3146c388-43e5-4ea7-b2b5-fdc8231a6248",
   "metadata": {},
   "outputs": [
    {
     "name": "stdout",
     "output_type": "stream",
     "text": [
      "  Country Name Country Code  Year  Population\n",
      "0        Aruba          ABW  1960      49.224\n",
      "1  Afghanistan          AFG  1960      91.779\n",
      "2       Angola          AGO  1960      89.565\n",
      "3      Albania          ALB  1960      69.295\n",
      "4      Andorra          AND  1960      41.550\n"
     ]
    }
   ],
   "source": [
    "# Convert wide format to long format\n",
    "population_long_df = pd.melt(\n",
    "    rpopulation_df,\n",
    "    id_vars=['Country Name', 'Country Code'],\n",
    "    var_name='Year',\n",
    "    value_name='Population'\n",
    ")\n",
    "\n",
    "# Convert 'Year' column to numeric (optional but helpful)\n",
    "population_long_df['Year'] = population_long_df['Year'].astype(int)\n",
    "\n",
    "# Preview the reshaped DataFrame\n",
    "print(population_long_df.head())"
   ]
  },
  {
   "cell_type": "code",
   "execution_count": 33,
   "id": "ef0a2622-ece1-4160-a1d9-da9bb8039e8b",
   "metadata": {},
   "outputs": [],
   "source": [
    "population_long_df['Population'] = population_long_df['Population'].round(3)"
   ]
  },
  {
   "cell_type": "code",
   "execution_count": 34,
   "id": "aa1f7097-66cf-42a3-a722-0a607e8ca38d",
   "metadata": {},
   "outputs": [],
   "source": [
    "population_long_df.to_csv('modified_rural_population_1.csv', index=False)"
   ]
  }
 ],
 "metadata": {
  "kernelspec": {
   "display_name": "Python 3 (ipykernel)",
   "language": "python",
   "name": "python3"
  },
  "language_info": {
   "codemirror_mode": {
    "name": "ipython",
    "version": 3
   },
   "file_extension": ".py",
   "mimetype": "text/x-python",
   "name": "python",
   "nbconvert_exporter": "python",
   "pygments_lexer": "ipython3",
   "version": "3.12.10"
  }
 },
 "nbformat": 4,
 "nbformat_minor": 5
}
